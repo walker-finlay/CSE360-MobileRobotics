{
 "cells": [
  {
   "cell_type": "code",
   "execution_count": 9,
   "metadata": {},
   "outputs": [
    {
     "name": "stdout",
     "output_type": "stream",
     "text": [
      "Populating the interactive namespace from numpy and matplotlib\n"
     ]
    }
   ],
   "source": [
    "%pylab inline"
   ]
  },
  {
   "cell_type": "markdown",
   "metadata": {},
   "source": [
    "# Get images from visual sensor"
   ]
  },
  {
   "cell_type": "code",
   "execution_count": 10,
   "metadata": {},
   "outputs": [
    {
     "name": "stdout",
     "output_type": "stream",
     "text": [
      "Getting first image\n",
      "no image yet\n",
      "image 0 OK!!!\n",
      "image 1 OK!!!\n",
      "image 2 OK!!!\n",
      "image 3 OK!!!\n",
      "image 4 OK!!!\n",
      "image 5 OK!!!\n",
      "image 6 OK!!!\n",
      "image 7 OK!!!\n",
      "image 8 OK!!!\n",
      "image 9 OK!!!\n",
      "image 10 OK!!!\n",
      "image 11 OK!!!\n"
     ]
    }
   ],
   "source": [
    "import sim as vrep\n",
    "import time\n",
    "import cv2\n",
    "import numpy as np\n",
    "import csv\n",
    "\n",
    "vrep.simxFinish(-1)\n",
    "\n",
    "clientID = vrep.simxStart('127.0.0.1', 19999, True, True, 5000, 5)\n",
    "\n",
    "angles = []\n",
    "\n",
    "if clientID!=-1:\n",
    "    # Handler for the camera\n",
    "    res, v1 = vrep.simxGetObjectHandle(clientID, 'Vision_sensor', vrep.simx_opmode_oneshot_wait)\n",
    "    print ('Getting first image')\n",
    "    err, resolution, image = vrep.simxGetVisionSensorImage(clientID, v1, 0, vrep.simx_opmode_streaming)\n",
    "    _, rotation = vrep.simxGetObjectOrientation(clientID, v1, -1, vrep.simx_opmode_streaming)\n",
    "    # Take p pictures\n",
    "    p = 12\n",
    "    i = 0\n",
    "    while i < p:     \n",
    "        err, resolution, image = vrep.simxGetVisionSensorImage(clientID, v1, 0, vrep.simx_opmode_buffer)\n",
    "        _, rotation = vrep.simxGetObjectOrientation(clientID, v1, -1, vrep.simx_opmode_buffer)\n",
    "        if err == vrep.simx_return_ok:\n",
    "            print (\"image %d OK!!!\"%i)\n",
    "            img = np.array(image,dtype=np.uint8)\n",
    "            img.resize([resolution[1],resolution[0],3])\n",
    "            cv2.imwrite(f'./images/image{i}.jpg', img)\n",
    "            angles.append(rotation)\n",
    "            i+=1\n",
    "        elif err == vrep.simx_return_novalue_flag:\n",
    "            print (\"no image yet\")\n",
    "            pass\n",
    "        else:\n",
    "          print (err)\n",
    "        time.sleep(1)\n",
    "else:\n",
    "    print (\"Failed to connect to remote API Server\")\n",
    "    vrep.simxFinish(clientID)\n",
    "    \n",
    "with open('angles.csv', 'w') as csvfile:\n",
    "    csvwriter = csv.writer(csvfile)\n",
    "    csvwriter.writerows(angles)\n"
   ]
  },
  {
   "cell_type": "code",
   "execution_count": null,
   "metadata": {},
   "outputs": [],
   "source": []
  },
  {
   "cell_type": "code",
   "execution_count": null,
   "metadata": {},
   "outputs": [],
   "source": []
  }
 ],
 "metadata": {
  "kernelspec": {
   "display_name": "Python 3",
   "language": "python",
   "name": "python3"
  },
  "language_info": {
   "codemirror_mode": {
    "name": "ipython",
    "version": 3
   },
   "file_extension": ".py",
   "mimetype": "text/x-python",
   "name": "python",
   "nbconvert_exporter": "python",
   "pygments_lexer": "ipython3",
   "version": "3.8.5"
  }
 },
 "nbformat": 4,
 "nbformat_minor": 4
}
