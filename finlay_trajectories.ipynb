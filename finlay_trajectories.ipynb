{
 "cells": [
  {
   "cell_type": "code",
   "execution_count": 194,
   "metadata": {},
   "outputs": [
    {
     "name": "stdout",
     "output_type": "stream",
     "text": [
      "Populating the interactive namespace from numpy and matplotlib\n"
     ]
    }
   ],
   "source": [
    "%pylab inline"
   ]
  },
  {
   "cell_type": "markdown",
   "metadata": {},
   "source": [
    "### Draw the map"
   ]
  },
  {
   "cell_type": "code",
   "execution_count": 243,
   "metadata": {},
   "outputs": [
    {
     "name": "stdout",
     "output_type": "stream",
     "text": [
      "[[-5.   -7.  ]\n",
      " [ 0.    0.  ]\n",
      " [ 1.8   0.  ]\n",
      " [-0.24  0.02]]\n",
      "[[10.    -4.5  ]\n",
      " [ 0.     1.5  ]\n",
      " [-0.3   -0.36 ]\n",
      " [ 0.02   0.029]]\n",
      "[[ 0.00000000e+00  3.50000000e+00]\n",
      " [ 0.00000000e+00  3.00000000e+00]\n",
      " [ 4.00000000e-02 -3.66666667e-01]\n",
      " [-1.77777778e-03  1.11111111e-02]]\n",
      "[[ 3.00e+00  3.50e+00]\n",
      " [ 0.00e+00 -5.00e-01]\n",
      " [-2.25e-02  0.00e+00]\n",
      " [ 7.50e-04  1.25e-03]]\n",
      "[[ 0.000e+00  3.500e+00]\n",
      " [ 0.000e+00  1.000e+00]\n",
      " [ 4.320e-02 -4.880e-02]\n",
      " [-1.152e-03  7.680e-04]]\n"
     ]
    },
    {
     "data": {
      "image/png": "[encoded data removed]",
      "text/plain": [
       "<Figure size 432x288 with 1 Axes>"
      ]
     },
     "metadata": {
      "needs_background": "light"
     },
     "output_type": "display_data"
    }
   ],
   "source": [
    "import matplotlib.patches as patches\n",
    "\n",
    "fig, ax = plt.subplots()\n",
    "\n",
    "# Add obstacles\n",
    "obst1 = patches.Rectangle((4.0, -1.0), 2.0, 10.0, color='black')\n",
    "obst2 = patches.Rectangle((0.5, 2.0), 2.0, 3.0)\n",
    "obst3 = patches.Rectangle((-6.0, -5.0), 15.0, 1.0, color='black')\n",
    "obst4 = patches.Rectangle((8.0, 0.0), 2.0, 5.0, color='black')\n",
    "obst5 = patches.Rectangle((-4.0, -3.0), 2.0, 8.0, color='black')\n",
    "ax.add_patch(obst1)\n",
    "ax.add_patch(obst2)\n",
    "ax.add_patch(obst3)\n",
    "ax.add_patch(obst4)\n",
    "ax.add_patch(obst5)\n",
    "\n",
    "# Add start, goal\n",
    "plt.plot(-5, -7, 'ko-')\n",
    "plt.plot(9, 10, 'ko-')\n",
    "plt.annotate(\"γ(0)\", (-5,-7), textcoords=\"offset points\", xytext=(5,0), color='r')\n",
    "plt.annotate(\"γ(t_f)\", (9,10), textcoords=\"offset points\", xytext=(-30,0), color='r')\n",
    "\n",
    "# Spline Trajectory --------------------------------------------\n",
    "# Get from wpi (initial waypoint) to wpe (end waypoint)\n",
    "def get_piece(wpi, wpe):\n",
    "    a0 = wpi[1] # initial position\n",
    "    a1 = wpi[2] # initial velocity\n",
    "    a2 = (3*wpe[1]-3*wpi[1]-2*wpi[2]*wpe[0]-wpe[2]*wpe[0])/(wpe[0]**2)\n",
    "    a3 = (2*wpi[1]+(wpi[2]+wpe[2])*wpe[0]-2*wpe[1])/(wpe[0]**3)\n",
    "    return array([a0, a1, a2, a3])\n",
    "\n",
    "def get_fxn(coef):\n",
    "    x = coef[0][0] + coef[1][0]*t + coef[2][0]*t**2 + coef[3][0]*t**3\n",
    "    y = coef[0][1] + coef[1][1]*t + coef[2][1]*t**2 + coef[3][1]*t**3\n",
    "    return array([x, y])\n",
    "\n",
    "# Waypoints (time, position, velocity)\n",
    "wps = (0, array([-5, -7]), array([0, 0]))\n",
    "wp1 = (5, array([10, -4.5]), array([0, 1.5]))\n",
    "wp2 = (10, array([0, 3.5]), array([0, 3]))\n",
    "wp3 = (15, array([3, 3.5]), array([0, -0.5]))\n",
    "wp4 = (20, array([0, 3.5]), array([0, 1]))\n",
    "wpf = (25, array([9, 10]), array([0, 0]))\n",
    "plt.plot(10, -4.5, 'bo-')\n",
    "plt.plot(0, 3.5, 'bo-')\n",
    "plt.plot(3, 3.5, 'bo-')\n",
    "\n",
    "# Coefficients a_n by leg\n",
    "leg1 = get_piece(wps, wp1)\n",
    "leg2 = get_piece(wp1, wp2)\n",
    "leg3 = get_piece(wp2, wp3)\n",
    "leg4 = get_piece(wp3, wp4)\n",
    "leg5 = get_piece(wp4, wpf)\n",
    "\n",
    "print(leg1)\n",
    "print(leg2)\n",
    "print(leg3)\n",
    "print(leg4)\n",
    "print(leg5)\n",
    "\n",
    "# Plotem legs - there's definitely a better way to do this\n",
    "# Functions by leg\n",
    "t = linspace(0, 5)\n",
    "f1 = get_fxn(leg1)\n",
    "plot(f1[0], f1[1])\n",
    "t = linspace(0, 10)\n",
    "f2 = get_fxn(leg2)\n",
    "plot(f2[0], f2[1])\n",
    "t = linspace(0, 15)\n",
    "f3 = get_fxn(leg3)\n",
    "plot(f3[0], f3[1])\n",
    "t = linspace(0, 20)\n",
    "f4 = get_fxn(leg4)\n",
    "plot(f4[0], f4[1])\n",
    "t = linspace(0, 25)\n",
    "f5 = get_fxn(leg5)\n",
    "plot(f5[0], f5[1])\n",
    "\n",
    "# --------------------------------------------------------------\n",
    "\n",
    "# Plot it\n",
    "ax.set_xlim(-6.5, 10.5)\n",
    "ax.set_ylim(-8, 11)\n",
    "plt.show()"
   ]
  },
  {
   "cell_type": "code",
   "execution_count": null,
   "metadata": {},
   "outputs": [],
   "source": []
  }
 ],
 "metadata": {
  "kernelspec": {
   "display_name": "Python 3",
   "language": "python",
   "name": "python3"
  },
  "language_info": {
   "codemirror_mode": {
    "name": "ipython",
    "version": 3
   },
   "file_extension": ".py",
   "mimetype": "text/x-python",
   "name": "python",
   "nbconvert_exporter": "python",
   "pygments_lexer": "ipython3",
   "version": "3.8.3"
  }
 },
 "nbformat": 4,
 "nbformat_minor": 4
}
